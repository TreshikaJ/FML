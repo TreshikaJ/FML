{
  "nbformat": 4,
  "nbformat_minor": 0,
  "metadata": {
    "colab": {
      "provenance": []
    },
    "kernelspec": {
      "name": "python3",
      "display_name": "Python 3"
    },
    "language_info": {
      "name": "python"
    }
  },
  "cells": [
    {
      "cell_type": "code",
      "source": [
        "\"\"\"Write a Python code for the following:\n",
        "Consider the hypothesis space H defined by conjunctions of literals based on n boolean variables.\n",
        "The size IHI of this hypothesis space is 3^n. If a learner attempts to learn a target concept described\n",
        "by conjunctions of up to 10 boolean literals, and we desire a 95% probability that it will learn a\n",
        "hypothesis with error less than 0.1, then it suffices to present m randomly drawn training\n",
        "examples. Find the value of m sufficient for this case. Given [δ = 5% (0.05); ϵ = 0.1]\"\"\"\n",
        "\n",
        "import math\n",
        "n=10\n",
        "h=3^n\n",
        "e=0.1\n",
        "d=0.05\n",
        "m=(1/e)*(math.log(h)+math.log(1/d))\n",
        "print(m)"
      ],
      "metadata": {
        "colab": {
          "base_uri": "https://localhost:8080/"
        },
        "id": "5VYppzqCAfq7",
        "outputId": "8aaa9935-0343-4341-ce5a-c49e5db33f5b"
      },
      "execution_count": 3,
      "outputs": [
        {
          "output_type": "stream",
          "name": "stdout",
          "text": [
            "51.92956850890211\n"
          ]
        }
      ]
    },
    {
      "cell_type": "code",
      "source": [],
      "metadata": {
        "id": "pYf-hd8PBJZE"
      },
      "execution_count": null,
      "outputs": []
    }
  ]
}